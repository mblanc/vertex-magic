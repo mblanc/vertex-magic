{
 "cells": [
  {
   "cell_type": "code",
   "execution_count": 3,
   "id": "75c13441-10a4-4567-a5fd-ae19a0c042fb",
   "metadata": {},
   "outputs": [],
   "source": [
    "%load_ext src.vertex-magic"
   ]
  },
  {
   "cell_type": "code",
   "execution_count": null,
   "id": "fd72db47-ca90-4324-be5c-0e8712d2945f",
   "metadata": {},
   "outputs": [
    {
     "name": "stdout",
     "output_type": "stream",
     "text": [
      "INFO:google.cloud.aiplatform.utils.source_utils:Training script copied to:\n",
      "gs://svc-demo-vertex/aiplatform-2022-04-25-14:39:54.554-aiplatform_custom_trainer_script-0.1.tar.gz.\n",
      "INFO:google.cloud.aiplatform.training_jobs:Training Output directory:\n",
      "gs://svc-demo-vertex/aiplatform-custom-training-2022-04-25-14:39:54.644 \n",
      "INFO:google.cloud.aiplatform.training_jobs:View Training:\n",
      "https://console.cloud.google.com/ai/platform/locations/europe-west4/training/7960488374354051072?project=125188993477\n",
      "INFO:google.cloud.aiplatform.training_jobs:CustomTrainingJob projects/125188993477/locations/europe-west4/trainingPipelines/7960488374354051072 current state:\n",
      "PipelineState.PIPELINE_STATE_RUNNING\n",
      "INFO:google.cloud.aiplatform.training_jobs:View backing custom job:\n",
      "https://console.cloud.google.com/ai/platform/locations/europe-west4/training/7157440265798549504?project=125188993477\n",
      "INFO:google.cloud.aiplatform.training_jobs:CustomTrainingJob projects/125188993477/locations/europe-west4/trainingPipelines/7960488374354051072 current state:\n",
      "PipelineState.PIPELINE_STATE_RUNNING\n",
      "INFO:google.cloud.aiplatform.training_jobs:CustomTrainingJob projects/125188993477/locations/europe-west4/trainingPipelines/7960488374354051072 current state:\n",
      "PipelineState.PIPELINE_STATE_RUNNING\n",
      "INFO:google.cloud.aiplatform.training_jobs:CustomTrainingJob projects/125188993477/locations/europe-west4/trainingPipelines/7960488374354051072 current state:\n",
      "PipelineState.PIPELINE_STATE_RUNNING\n"
     ]
    }
   ],
   "source": [
    "%%vertex --region europe-west4\n",
    "\n",
    "import tensorflow as tf\n",
    "\n",
    "mnist = tf.keras.datasets.mnist\n",
    "\n",
    "(x_train, y_train), (x_test, y_test) = mnist.load_data()\n",
    "x_train, x_test = x_train / 255.0, x_test / 255.0\n",
    "\n",
    "model = tf.keras.models.Sequential([\n",
    "  tf.keras.layers.Flatten(input_shape=(28, 28)),\n",
    "  tf.keras.layers.Dense(128, activation='relu'),\n",
    "  tf.keras.layers.Dropout(0.2),\n",
    "  tf.keras.layers.Dense(10)\n",
    "])\n",
    "\n",
    "loss_fn = tf.keras.losses.SparseCategoricalCrossentropy(from_logits=True)\n",
    "\n",
    "model.compile(optimizer='adam',\n",
    "              loss=loss_fn,\n",
    "              metrics=['accuracy'])\n",
    "\n",
    "model.fit(x_train, y_train, epochs=10)\n",
    "\n",
    "model.save(\"tmp/magic_model\") # replace with a GCS path"
   ]
  },
  {
   "cell_type": "code",
   "execution_count": null,
   "id": "22255885-5e2f-434f-8173-282fcedf0369",
   "metadata": {},
   "outputs": [],
   "source": []
  }
 ],
 "metadata": {
  "environment": {
   "kernel": "python3",
   "name": "tf2-gpu.2-8.m90",
   "type": "gcloud",
   "uri": "gcr.io/deeplearning-platform-release/tf2-gpu.2-8:m90"
  },
  "kernelspec": {
   "display_name": "Python 3",
   "language": "python",
   "name": "python3"
  },
  "language_info": {
   "codemirror_mode": {
    "name": "ipython",
    "version": 3
   },
   "file_extension": ".py",
   "mimetype": "text/x-python",
   "name": "python",
   "nbconvert_exporter": "python",
   "pygments_lexer": "ipython3",
   "version": "3.7.12"
  }
 },
 "nbformat": 4,
 "nbformat_minor": 5
}
